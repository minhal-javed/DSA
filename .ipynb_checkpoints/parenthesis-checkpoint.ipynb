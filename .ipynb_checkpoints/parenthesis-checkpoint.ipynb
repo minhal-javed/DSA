{
 "cells": [
  {
   "cell_type": "code",
   "execution_count": 32,
   "metadata": {},
   "outputs": [
    {
     "name": "stdout",
     "output_type": "stream",
     "text": [
      "[]\n"
     ]
    }
   ],
   "source": [
    "class Stack:\n",
    "    def __init__(self):\n",
    "        self.items = []\n",
    "        print(self.items)\n",
    "    def is_empty(self):\n",
    "        return self.items == []\n",
    "    def push(self, item):\n",
    "        return self.items.append(item)\n",
    "    def pop(self):\n",
    "        return self.items.pop()\n",
    "    def peek(self):\n",
    "        return self.items[len(self.items)-1]\n",
    "    def size(self):\n",
    "        return len(self.items)\n",
    "#a=[1,2,3,4,5]\n",
    "b=[]\n",
    "#v=Stack()\n",
    "s=Stack()\n",
    "\n",
    "#for i in range(len(a)):\n",
    "    #v.push(s.pop())\n",
    "    #print(b)"
   ]
  },
  {
   "cell_type": "code",
   "execution_count": 38,
   "metadata": {},
   "outputs": [
    {
     "name": "stdout",
     "output_type": "stream",
     "text": [
      "[]\n",
      "False\n"
     ]
    }
   ],
   "source": [
    "def par_check(s_strng):\n",
    "    s=Stack()\n",
    "    index=0\n",
    "    bal=True\n",
    "    while index < len(s_strng) and bal:\n",
    "        symbol=s_strng[index]\n",
    "        if symbol in \"({[\":\n",
    "            s.push(symbol)\n",
    "        else:\n",
    "            if s.is_empty:\n",
    "                bal=False\n",
    "            else:\n",
    "                if not matches(top, symbol):\n",
    "                    bal = False\n",
    "        index= index+1\n",
    "    if bal and s.is_empty():\n",
    "        return True\n",
    "    else:\n",
    "        return False\n",
    "def matches(open, close):\n",
    "    opens = \"([{\"\n",
    "    closes = \")]}\"\n",
    "    return opens.index(open) == closes.index(close)\n",
    "    \n",
    "print(par_check(\"({[]})\"))\n",
    "        "
   ]
  },
  {
   "cell_type": "code",
   "execution_count": 17,
   "metadata": {},
   "outputs": [
    {
     "data": {
      "text/plain": [
       "'['"
      ]
     },
     "execution_count": 17,
     "metadata": {},
     "output_type": "execute_result"
    }
   ],
   "source": [
    "a=set('[')\n",
    "\n",
    "a.pop()\n"
   ]
  },
  {
   "cell_type": "code",
   "execution_count": 27,
   "metadata": {},
   "outputs": [
    {
     "data": {
      "text/plain": [
       "True"
      ]
     },
     "execution_count": 27,
     "metadata": {},
     "output_type": "execute_result"
    }
   ],
   "source": [
    "OPENING = '('\n",
    "\n",
    "\n",
    "def is_balanced(parentheses):\n",
    "    stack = []\n",
    "    for paren in parentheses:\n",
    "        if paren == OPENING:\n",
    "            stack.append(paren)\n",
    "        else:\n",
    "            try:\n",
    "                stack.pop()\n",
    "            except IndexError:  # too many closing parens\n",
    "                return False\n",
    "    return len(stack) == 0  # false if too many opening parens\n",
    "\n",
    "\n",
    "is_balanced('((()))')  # => True\n",
    "#is_balanced('(()')  # => False\n",
    "#is_balanced('())')  # => False"
   ]
  },
  {
   "cell_type": "code",
   "execution_count": null,
   "metadata": {},
   "outputs": [],
   "source": []
  }
 ],
 "metadata": {
  "kernelspec": {
   "display_name": "Python 3",
   "language": "python",
   "name": "python3"
  },
  "language_info": {
   "codemirror_mode": {
    "name": "ipython",
    "version": 3
   },
   "file_extension": ".py",
   "mimetype": "text/x-python",
   "name": "python",
   "nbconvert_exporter": "python",
   "pygments_lexer": "ipython3",
   "version": "3.7.3"
  }
 },
 "nbformat": 4,
 "nbformat_minor": 2
}
