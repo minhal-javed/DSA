{
 "cells": [
  {
   "cell_type": "code",
   "execution_count": 31,
   "metadata": {},
   "outputs": [],
   "source": [
    "def insertion_sort(lista):\n",
    "    for i in range(1,len(lista)):\n",
    "        value=lista[i]\n",
    "        pos=i\n",
    "        while pos > 0 and value < lista[pos-1]:\n",
    "            lista[pos-1],lista[pos]=lista[pos],lista[pos-1]\n",
    "            pos -=1\n",
    "            \n",
    "        arr[pos] = value    \n",
    "    \n",
    "    \n",
    "                    \n",
    "lista=[88,55,22,44,1]\n",
    "insertion_sort(lista)\n",
    "        "
   ]
  },
  {
   "cell_type": "code",
   "execution_count": 32,
   "metadata": {},
   "outputs": [
    {
     "data": {
      "text/plain": [
       "[1, 22, 44, 55, 88]"
      ]
     },
     "execution_count": 32,
     "metadata": {},
     "output_type": "execute_result"
    }
   ],
   "source": [
    "lista"
   ]
  },
  {
   "cell_type": "code",
   "execution_count": 28,
   "metadata": {},
   "outputs": [
    {
     "name": "stdout",
     "output_type": "stream",
     "text": [
      "30\n",
      "54\n"
     ]
    },
    {
     "data": {
      "text/plain": [
       "[30, 54, 55]"
      ]
     },
     "execution_count": 28,
     "metadata": {},
     "output_type": "execute_result"
    }
   ],
   "source": [
    "lista=[55,30,54]\n",
    "def insertionSort(lista):\n",
    "    for i in range(1,len(lista)):\n",
    "        value_to_sort=lista[i]\n",
    "        j = i\n",
    "        #print(i)\n",
    "        while lista[j-1] > value_to_sort and j >0 :\n",
    "            lista[j],lista[j-1] = lista[j-1],lista[j]\n",
    "            j=j-1\n",
    "            print(lista[j])\n",
    "    return lista\n",
    "\n",
    "        \n",
    "\n",
    "\n",
    "insertionSort(lista)"
   ]
  },
  {
   "cell_type": "code",
   "execution_count": 46,
   "metadata": {},
   "outputs": [],
   "source": [
    "def bubble_sort(arr1):\n",
    "    n=len(arr1)\n",
    "    for i in range(n-1,0,-1):\n",
    "        for j in range (i):\n",
    "            print(i)\n",
    "            if arr1[j] > arr1[j+1]:\n",
    "                arr1[j],arr1[j+1]=arr1[j+1],arr1[j]\n",
    "                \n",
    "    return arr1\n",
    "                \n",
    "                \n",
    "            \n",
    "    \n",
    "\n",
    "    \n",
    "    \n",
    "    \n",
    "arr1=[4,8,5,6,2,1]    "
   ]
  },
  {
   "cell_type": "code",
   "execution_count": 47,
   "metadata": {},
   "outputs": [
    {
     "name": "stdout",
     "output_type": "stream",
     "text": [
      "5\n",
      "5\n",
      "5\n",
      "5\n",
      "5\n",
      "4\n",
      "4\n",
      "4\n",
      "4\n",
      "3\n",
      "3\n",
      "3\n",
      "2\n",
      "2\n",
      "1\n"
     ]
    },
    {
     "data": {
      "text/plain": [
       "[1, 2, 4, 5, 6, 8]"
      ]
     },
     "execution_count": 47,
     "metadata": {},
     "output_type": "execute_result"
    }
   ],
   "source": [
    "bubble_sort(arr1)"
   ]
  },
  {
   "cell_type": "code",
   "execution_count": 64,
   "metadata": {},
   "outputs": [],
   "source": [
    "def linear_search(values,target):\n",
    "    for i in range(len(values)):\n",
    "        if values[i]==target:\n",
    "            \n",
    "            return \"match found\"\n",
    "    \n",
    "    return \"Not found\""
   ]
  },
  {
   "cell_type": "code",
   "execution_count": 66,
   "metadata": {},
   "outputs": [
    {
     "data": {
      "text/plain": [
       "'Not found'"
      ]
     },
     "execution_count": 66,
     "metadata": {},
     "output_type": "execute_result"
    }
   ],
   "source": [
    "values=[1,2,3,4,5,6,8]\n",
    "linear_search(values,55)"
   ]
  },
  {
   "cell_type": "code",
   "execution_count": 86,
   "metadata": {},
   "outputs": [],
   "source": [
    "def binary_search(arr0,target):\n",
    "    low=0\n",
    "    high=len(arr0)-1\n",
    "    \n",
    "    while low <= high:\n",
    "        mid = (high+low)//2\n",
    "        if arr0[mid]==target:\n",
    "            return \"Found \"\n",
    "        elif target < arr0[mid]:\n",
    "            high =mid -1\n",
    "    \n",
    "            \n",
    "        else:\n",
    "            low =mid+1\n",
    "            \n",
    "    return False\n",
    "    "
   ]
  },
  {
   "cell_type": "code",
   "execution_count": 81,
   "metadata": {},
   "outputs": [
    {
     "data": {
      "text/plain": [
       "'Found '"
      ]
     },
     "execution_count": 81,
     "metadata": {},
     "output_type": "execute_result"
    }
   ],
   "source": [
    "arr0=[2,5,8,12,50,60,70,80,90]\n",
    "binary_search(arr0,60)\n"
   ]
  },
  {
   "cell_type": "raw",
   "metadata": {},
   "source": []
  },
  {
   "cell_type": "markdown",
   "metadata": {},
   "source": []
  }
 ],
 "metadata": {
  "kernelspec": {
   "display_name": "Python 3",
   "language": "python",
   "name": "python3"
  },
  "language_info": {
   "codemirror_mode": {
    "name": "ipython",
    "version": 3
   },
   "file_extension": ".py",
   "mimetype": "text/x-python",
   "name": "python",
   "nbconvert_exporter": "python",
   "pygments_lexer": "ipython3",
   "version": "3.7.3"
  }
 },
 "nbformat": 4,
 "nbformat_minor": 2
}
