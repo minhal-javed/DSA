{
 "cells": [
  {
   "cell_type": "code",
   "execution_count": 64,
   "metadata": {},
   "outputs": [
    {
     "data": {
      "text/plain": [
       "[1, 2, 5, 7]"
      ]
     },
     "execution_count": 64,
     "metadata": {},
     "output_type": "execute_result"
    }
   ],
   "source": [
    "lista=[7,5,2,1]\n",
    "def insertionSort(lista):\n",
    "    for i in range(1,len(lista)):\n",
    "        value_to_sort=lista[i]\n",
    "        j = i\n",
    "        while lista[j-1] > value_to_sort and j >0 :\n",
    "            lista[j],lista[j-1] = lista[j-1],lista[j]\n",
    "            j=j-1\n",
    "    return lista\n",
    "\n",
    "        \n",
    "\n",
    "\n",
    "insertionSort(lista)"
   ]
  },
  {
   "cell_type": "code",
   "execution_count": 65,
   "metadata": {},
   "outputs": [
    {
     "data": {
      "text/plain": [
       "4"
      ]
     },
     "execution_count": 65,
     "metadata": {},
     "output_type": "execute_result"
    }
   ],
   "source": [
    "len(lista)"
   ]
  },
  {
   "cell_type": "markdown",
   "metadata": {},
   "source": [
    "# bubble sort"
   ]
  },
  {
   "cell_type": "code",
   "execution_count": 57,
   "metadata": {},
   "outputs": [
    {
     "name": "stdout",
     "output_type": "stream",
     "text": [
      "[11, 22, 33, 44, 66, 88]\n"
     ]
    }
   ],
   "source": [
    "lista=[88,22,44,66,33,11]\n",
    "def bubble_sort(lista):\n",
    "    for i in range(len(lista)-1,0,-1):\n",
    "        for j in range (i):\n",
    "            if lista[j] > lista[j+1]:\n",
    "                lista[j],lista[j+1]=lista[j+1],lista[j]\n",
    "                       \n",
    "    return lista\n",
    "bubble_sort(lista)\n",
    "print(lista)"
   ]
  },
  {
   "cell_type": "code",
   "execution_count": 58,
   "metadata": {},
   "outputs": [
    {
     "data": {
      "text/plain": [
       "[11, 22, 33, 44, 66, 88]"
      ]
     },
     "execution_count": 58,
     "metadata": {},
     "output_type": "execute_result"
    }
   ],
   "source": [
    "lista"
   ]
  },
  {
   "cell_type": "code",
   "execution_count": 70,
   "metadata": {},
   "outputs": [
    {
     "name": "stdout",
     "output_type": "stream",
     "text": [
      "[11, 44, 55, 66, 77, 99]\n"
     ]
    }
   ],
   "source": [
    "def bubble_sort(a):\n",
    "    for i in range(len(a)-1,0,-1):\n",
    "        for j in range(i):\n",
    "            if a[j]>a[j+1]:\n",
    "                temp=a[j]\n",
    "                a[j]=a[j+1]\n",
    "                a[j+1]=temp\n",
    "    return a\n",
    "print(bubble_sort([66,55,44,99,11,77]))\n",
    "a=[66,55,44,99,11,77]"
   ]
  },
  {
   "cell_type": "code",
   "execution_count": 71,
   "metadata": {},
   "outputs": [
    {
     "data": {
      "text/plain": [
       "6"
      ]
     },
     "execution_count": 71,
     "metadata": {},
     "output_type": "execute_result"
    }
   ],
   "source": [
    "len(a)"
   ]
  },
  {
   "cell_type": "markdown",
   "metadata": {},
   "source": [
    "# linear searching"
   ]
  },
  {
   "cell_type": "code",
   "execution_count": 5,
   "metadata": {},
   "outputs": [
    {
     "name": "stdout",
     "output_type": "stream",
     "text": [
      "not found\n"
     ]
    }
   ],
   "source": [
    "def search(lista,n):\n",
    "    for i in range(len(lista)):\n",
    "        if lista[i]==n :\n",
    "            print(\"search item was found at index at \",i)\n",
    "            return True\n",
    "    return False\n",
    "lista=['minhal','ahmed',55,66,22,'hamza',88,54,56,'zia']\n",
    "n=23\n",
    "if search(lista,n):\n",
    "        print('found congrats')\n",
    "else:\n",
    "    print('not found')\n",
    "    \n"
   ]
  },
  {
   "cell_type": "code",
   "execution_count": 12,
   "metadata": {},
   "outputs": [
    {
     "name": "stdout",
     "output_type": "stream",
     "text": [
      "enter the number 99\n",
      "congrats your item was found at index 0\n"
     ]
    },
    {
     "data": {
      "text/plain": [
       "True"
      ]
     },
     "execution_count": 12,
     "metadata": {},
     "output_type": "execute_result"
    }
   ],
   "source": [
    "def search(list,a):\n",
    "    for i in range(len(list)):\n",
    "        if list[i]==a:\n",
    "            print('congrats your item was found at index',i+0)\n",
    "            \n",
    "            return True\n",
    "    else:\n",
    "        print('sorry we couldnt find your number')\n",
    "    \n",
    "list=[99,55,11,44,333,5851,9,21547,2941,2877,5851,7,2,29,22,77,21,699]\n",
    "a=int(input(\"enter the number \"))\n",
    "\n",
    "search(list,a)\n"
   ]
  },
  {
   "cell_type": "code",
   "execution_count": 4,
   "metadata": {},
   "outputs": [
    {
     "name": "stdout",
     "output_type": "stream",
     "text": [
      "Enter number to search:6\n",
      "match found:6\n"
     ]
    }
   ],
   "source": [
    "def target(list,num):\n",
    "\n",
    "    for x in list:\n",
    "        if x == str(num):\n",
    "            print(\"match found:\"+x)\n",
    "            break\n",
    "    else:\n",
    "         print('no match found')\n",
    "\n",
    "\n",
    "list1 = ['6','4','7','9','0','2','3','1']\n",
    "inp = input('Enter number to search:')\n",
    "target(list1,inp)"
   ]
  },
  {
   "cell_type": "code",
   "execution_count": 11,
   "metadata": {},
   "outputs": [],
   "source": []
  },
  {
   "cell_type": "code",
   "execution_count": 12,
   "metadata": {},
   "outputs": [
    {
     "data": {
      "text/plain": [
       "3"
      ]
     },
     "execution_count": 12,
     "metadata": {},
     "output_type": "execute_result"
    }
   ],
   "source": []
  },
  {
   "cell_type": "code",
   "execution_count": null,
   "metadata": {},
   "outputs": [],
   "source": [
    "\n"
   ]
  },
  {
   "cell_type": "code",
   "execution_count": null,
   "metadata": {},
   "outputs": [],
   "source": []
  }
 ],
 "metadata": {
  "kernelspec": {
   "display_name": "Python 3",
   "language": "python",
   "name": "python3"
  },
  "language_info": {
   "codemirror_mode": {
    "name": "ipython",
    "version": 3
   },
   "file_extension": ".py",
   "mimetype": "text/x-python",
   "name": "python",
   "nbconvert_exporter": "python",
   "pygments_lexer": "ipython3",
   "version": "3.7.3"
  }
 },
 "nbformat": 4,
 "nbformat_minor": 2
}
