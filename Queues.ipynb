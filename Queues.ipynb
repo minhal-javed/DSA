{
 "cells": [
  {
   "cell_type": "code",
   "execution_count": 1,
   "metadata": {},
   "outputs": [],
   "source": [
    "import queue as Q\n"
   ]
  },
  {
   "cell_type": "code",
   "execution_count": null,
   "metadata": {},
   "outputs": [],
   "source": []
  },
  {
   "cell_type": "code",
   "execution_count": 2,
   "metadata": {},
   "outputs": [],
   "source": [
    "q=Q.Queue()"
   ]
  },
  {
   "cell_type": "code",
   "execution_count": 3,
   "metadata": {},
   "outputs": [
    {
     "ename": "AttributeError",
     "evalue": "module 'queue' has no attribute 'first'",
     "output_type": "error",
     "traceback": [
      "\u001b[1;31m---------------------------------------------------------------------------\u001b[0m",
      "\u001b[1;31mAttributeError\u001b[0m                            Traceback (most recent call last)",
      "\u001b[1;32m<ipython-input-3-697582382718>\u001b[0m in \u001b[0;36m<module>\u001b[1;34m\u001b[0m\n\u001b[1;32m----> 1\u001b[1;33m \u001b[0mQ\u001b[0m\u001b[1;33m.\u001b[0m\u001b[0mfirst\u001b[0m\u001b[1;33m(\u001b[0m\u001b[1;33m)\u001b[0m\u001b[1;33m\u001b[0m\u001b[1;33m\u001b[0m\u001b[0m\n\u001b[0m",
      "\u001b[1;31mAttributeError\u001b[0m: module 'queue' has no attribute 'first'"
     ]
    }
   ],
   "source": [
    "Q.first()"
   ]
  },
  {
   "cell_type": "code",
   "execution_count": null,
   "metadata": {},
   "outputs": [],
   "source": [
    "q.get()"
   ]
  },
  {
   "cell_type": "code",
   "execution_count": 2,
   "metadata": {},
   "outputs": [
    {
     "ename": "NameError",
     "evalue": "name 'q' is not defined",
     "output_type": "error",
     "traceback": [
      "\u001b[1;31m---------------------------------------------------------------------------\u001b[0m",
      "\u001b[1;31mNameError\u001b[0m                                 Traceback (most recent call last)",
      "\u001b[1;32m<ipython-input-2-4afd527a82ad>\u001b[0m in \u001b[0;36m<module>\u001b[1;34m\u001b[0m\n\u001b[1;32m----> 1\u001b[1;33m \u001b[0mq\u001b[0m\u001b[1;33m.\u001b[0m\u001b[0mget\u001b[0m\u001b[1;33m(\u001b[0m\u001b[1;33m)\u001b[0m\u001b[1;33m\u001b[0m\u001b[1;33m\u001b[0m\u001b[0m\n\u001b[0m",
      "\u001b[1;31mNameError\u001b[0m: name 'q' is not defined"
     ]
    }
   ],
   "source": [
    "q.get()\n"
   ]
  },
  {
   "cell_type": "code",
   "execution_count": null,
   "metadata": {},
   "outputs": [],
   "source": [
    "q.empty()"
   ]
  },
  {
   "cell_type": "code",
   "execution_count": null,
   "metadata": {},
   "outputs": [],
   "source": []
  },
  {
   "cell_type": "code",
   "execution_count": 36,
   "metadata": {},
   "outputs": [
    {
     "name": "stdout",
     "output_type": "stream",
     "text": [
      "1 1 1 1 1 "
     ]
    }
   ],
   "source": [
    "for i in range(5):\n",
    "    q.put(1)\n",
    "while not q.empty():\n",
    "    print(q.get(),end=\" \")"
   ]
  },
  {
   "cell_type": "code",
   "execution_count": 27,
   "metadata": {},
   "outputs": [],
   "source": [
    "class ArrayQueue:\n",
    "    def init (self):\n",
    "        self. data = [None] \n",
    "        ArrayQueue.DEFAULT_CAPACITY \n",
    "        self. size = 0 \n",
    "        self. front = 0\n",
    "\n",
    "    def __len__ (self):\n",
    "        return self. size\n",
    "\n",
    "    def is_empty(self):\n",
    "        return self. size == 0\n",
    "\n",
    "    def first(self):\n",
    "        if self.is_empty( ):\n",
    "            raise Empty( Queue is empty )\n",
    "            return self. data[self. front]\n",
    "\n",
    "    def dequeue(self): \n",
    "        if self.is_empty( ):\n",
    "            raise Empty( Queue is empty )\n",
    "            answer = self. data[self. front]\n",
    "            self.data[self. front] = None # help garbage collection\n",
    "            self.front = (self. front + 1) % len(self. data)\n",
    "            self.size -= 1\n",
    "            return answer\n",
    "    def enqueue(self, e):\n",
    "        if self. size == len(self. data):\n",
    "            self. resize(2 *len(self.data)) # double the array size\n",
    "            avail = (self. front + self. size) % len(self. data)\n",
    "            self. data[avail] = e\n",
    "            self. size += 1\n",
    "\n",
    "    def resize(self, cap): # we assume cap >= len(self)\n",
    "        old = self. data # keep track of existing list\n",
    "        self. data = [None] *cap # allocate list with new capacity\n",
    "        walk = self. front\n",
    "        for k in range(self. size): # only consider existing elements\n",
    "            self. data[k] = old[walk] # intentionally shift indices\n",
    "            walk = (1 + walk) % len(old) # use old size as modulus\n",
    "        self. front = 0 # front has been rea"
   ]
  },
  {
   "cell_type": "code",
   "execution_count": 28,
   "metadata": {},
   "outputs": [],
   "source": [
    "ArrayQueue=\"Q\""
   ]
  },
  {
   "cell_type": "code",
   "execution_count": 31,
   "metadata": {},
   "outputs": [
    {
     "ename": "AttributeError",
     "evalue": "module 'queue' has no attribute 'is_empty'",
     "output_type": "error",
     "traceback": [
      "\u001b[1;31m---------------------------------------------------------------------------\u001b[0m",
      "\u001b[1;31mAttributeError\u001b[0m                            Traceback (most recent call last)",
      "\u001b[1;32m<ipython-input-31-2f317fdc1f47>\u001b[0m in \u001b[0;36m<module>\u001b[1;34m\u001b[0m\n\u001b[1;32m----> 1\u001b[1;33m \u001b[0mQ\u001b[0m\u001b[1;33m.\u001b[0m\u001b[0mis_empty\u001b[0m\u001b[1;33m(\u001b[0m\u001b[1;33m)\u001b[0m\u001b[1;33m\u001b[0m\u001b[1;33m\u001b[0m\u001b[0m\n\u001b[0m",
      "\u001b[1;31mAttributeError\u001b[0m: module 'queue' has no attribute 'is_empty'"
     ]
    }
   ],
   "source": [
    "Q.is_empty()"
   ]
  },
  {
   "cell_type": "code",
   "execution_count": 11,
   "metadata": {},
   "outputs": [
    {
     "name": "stdout",
     "output_type": "stream",
     "text": [
      "True\n",
      "True\n",
      "3\n"
     ]
    }
   ],
   "source": [
    "class Queue:\n",
    "\n",
    "    def __init__(self):\n",
    "        self.queue = list()\n",
    "\n",
    "    def addtoq(self,dataval):\n",
    "        if dataval not in self.queue:\n",
    "            self.queue.insert(0,dataval)\n",
    "            return True\n",
    "        return False\n",
    "\n",
    "    def size(self):\n",
    "        return len(self.queue)\n",
    "\n",
    "TheQueue = Queue()\n",
    "print(TheQueue.addtoq(\"Mon\"))\n",
    "TheQueue.addtoq(\"Tue\")\n",
    "print(TheQueue.addtoq(\"Wed\"))\n",
    "print(TheQueue.size())"
   ]
  },
  {
   "cell_type": "code",
   "execution_count": null,
   "metadata": {},
   "outputs": [],
   "source": []
  }
 ],
 "metadata": {
  "kernelspec": {
   "display_name": "Python 3",
   "language": "python",
   "name": "python3"
  },
  "language_info": {
   "codemirror_mode": {
    "name": "ipython",
    "version": 3
   },
   "file_extension": ".py",
   "mimetype": "text/x-python",
   "name": "python",
   "nbconvert_exporter": "python",
   "pygments_lexer": "ipython3",
   "version": "3.7.3"
  }
 },
 "nbformat": 4,
 "nbformat_minor": 2
}
