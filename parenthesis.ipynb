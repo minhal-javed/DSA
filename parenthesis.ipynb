{
 "cells": [
  {
   "cell_type": "code",
   "execution_count": 1,
   "metadata": {},
   "outputs": [],
   "source": [
    "from stack import Stack"
   ]
  },
  {
   "cell_type": "code",
   "execution_count": 2,
   "metadata": {},
   "outputs": [
    {
     "name": "stdout",
     "output_type": "stream",
     "text": [
      "True\n"
     ]
    }
   ],
   "source": [
    "def par_check(s_strng):\n",
    "    s=Stack()\n",
    "    index=0\n",
    "    bal=True\n",
    "    \n",
    "    while index < len(s_strng) and bal:\n",
    "        symbol=s_strng[index]\n",
    "        if symbol in \"({[\":\n",
    "            s.push(symbol)\n",
    "        else:\n",
    "            if s.is_empty():\n",
    "                bal=False\n",
    "            else:\n",
    "                top=s.pop()\n",
    "                \n",
    "                if not matches(top, symbol):\n",
    "                    bal = False\n",
    "        index= index+1\n",
    "    if bal and s.is_empty():\n",
    "        return True\n",
    "    else:\n",
    "        return False\n",
    "def matches(open, close):\n",
    "    opens = \"([{\"\n",
    "    closes = \")]}\"\n",
    "    return opens.index(open) == closes.index(close)\n",
    "    \n",
    "print(par_check(\"({})\"))\n",
    "        "
   ]
  },
  {
   "cell_type": "code",
   "execution_count": 15,
   "metadata": {},
   "outputs": [
    {
     "name": "stdout",
     "output_type": "stream",
     "text": [
      "False\n"
     ]
    }
   ],
   "source": [
    "def match(open,close):\n",
    "    opens='({['\n",
    "    closes='})]'\n",
    "    return opens.index(open) == closes.index(close)\n",
    "\n",
    "def paren_check(strng):\n",
    "    index=0\n",
    "    s=Stack()\n",
    "    bal=True\n",
    "    while index < len(strng) and bal:\n",
    "        sym=strng[index]\n",
    "        if sym in \"([{\":\n",
    "            s.push(sym)\n",
    "        else:\n",
    "            if s.is_empty():\n",
    "                bal= True\n",
    "            else:\n",
    "                top=s.pop()\n",
    "                if not match(top,sym):\n",
    "                    bal=False\n",
    "        index +=1\n",
    "    \n",
    "    \n",
    "        if bal and s.is_empty():\n",
    "            return True\n",
    "        else:\n",
    "            return False\n",
    "    \n",
    "\n",
    "print(paren_check('({[])'))"
   ]
  },
  {
   "cell_type": "code",
   "execution_count": 16,
   "metadata": {},
   "outputs": [
    {
     "data": {
      "text/plain": [
       "1"
      ]
     },
     "execution_count": 16,
     "metadata": {},
     "output_type": "execute_result"
    }
   ],
   "source": [
    "a=[1,2,3]\n",
    "a.index(2)"
   ]
  },
  {
   "cell_type": "code",
   "execution_count": 17,
   "metadata": {},
   "outputs": [
    {
     "data": {
      "text/plain": [
       "'['"
      ]
     },
     "execution_count": 17,
     "metadata": {},
     "output_type": "execute_result"
    }
   ],
   "source": [
    "a=set('[')\n",
    "\n",
    "a.pop()\n"
   ]
  },
  {
   "cell_type": "code",
   "execution_count": 27,
   "metadata": {},
   "outputs": [
    {
     "data": {
      "text/plain": [
       "True"
      ]
     },
     "execution_count": 27,
     "metadata": {},
     "output_type": "execute_result"
    }
   ],
   "source": [
    "OPENING = '('\n",
    "\n",
    "\n",
    "def is_balanced(parentheses):\n",
    "    stack = []\n",
    "    for paren in parentheses:\n",
    "        if paren == OPENING:\n",
    "            stack.append(paren)\n",
    "        else:\n",
    "            try:\n",
    "                stack.pop()\n",
    "            except IndexError:  # too many closing parens\n",
    "                return False\n",
    "    return len(stack) == 0  # false if too many opening parens\n",
    "\n",
    "\n",
    "is_balanced('((()))')  # => True\n",
    "#is_balanced('(()')  # => False\n",
    "#is_balanced('())')  # => False"
   ]
  },
  {
   "cell_type": "code",
   "execution_count": null,
   "metadata": {},
   "outputs": [],
   "source": []
  }
 ],
 "metadata": {
  "kernelspec": {
   "display_name": "Python 3",
   "language": "python",
   "name": "python3"
  },
  "language_info": {
   "codemirror_mode": {
    "name": "ipython",
    "version": 3
   },
   "file_extension": ".py",
   "mimetype": "text/x-python",
   "name": "python",
   "nbconvert_exporter": "python",
   "pygments_lexer": "ipython3",
   "version": "3.7.3"
  }
 },
 "nbformat": 4,
 "nbformat_minor": 2
}
